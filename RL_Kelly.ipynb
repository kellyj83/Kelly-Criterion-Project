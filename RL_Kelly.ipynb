{
 "cells": [
  {
   "cell_type": "code",
   "execution_count": null,
   "id": "e63aaf7d",
   "metadata": {},
   "outputs": [],
   "source": [
    "import numpy as np \n"
   ]
  },
  {
   "cell_type": "code",
   "execution_count": null,
   "id": "44df014f",
   "metadata": {},
   "outputs": [],
   "source": [
    "x0 = 1000\n",
    "u_t = 0.25\n",
    "delta_t = 0.01\n",
    "lambda = 0.01\n",
    "T = 365\n",
    "\n",
    "# Value Function\n",
    "def V_derivative(t_i, x_i, alpha_1, alpha_2):\n",
    "    \n",
    "    return ((1+lambda*(T - t_i_next))np.log(x_i_next) - (1+lambda*(T - t_i))np.log(x_i))/(delta_t) - ((1+lambda*(T - t_i_next))np.log(1+lambda*(T - t_i_next)) - (1+lambda*(T - t_i))np.log(1+lambda*(T - t_i)))/(2*delta_t) + (alpha_i*(t_i_next ** 2 - t_i ** 2) + alpha_2*delta_t)/(delta_t)\n",
    "\n",
    "\n",
    "def C_derivative(alpha_1, alpha_2, beta_1, beta_2):\n",
    "    \n",
    "    dC_dalpha_1 = 1/2*sum([(V_derivative(t_j, x_j, alpha_1, alpha_2) + lambda*np.log(x_j) - lambda/2 * np.log(1+lambda*(T - t_j)) - lambda*beta_2 ** 2)*(t_j_next ** 2 - t_j ** 2) for j in range(1,T)])\n",
    "    \n",
    "    dC_dalpha_2 = 1/2*sum([(V_derivative(t_j, x_j, alpha_1, alpha_2) + lambda*np.log(x_j) - lambda/2 * np.log(1+lambda*(T - t_j)) - lambda*beta_2 ** 2)*(delta_t) for j in range(1,T)])\n",
    "    \n",
    "    dC_dbeta_1 = 1/2*sum([(V_derivative(t_j, x_j, alpha_1, alpha_2) + lambda*np.log(x_j) - lambda/2 * np.log(1+lambda*(T - t_j)) - lambda*beta_2 ** 2)*(-lambda*delta_t) for j in range(1,T)])\n",
    "    \n",
    "    return dC_dalpha_1, dC_dalpha_2, dC_dbeta_1"
   ]
  }
 ],
 "metadata": {
  "kernelspec": {
   "display_name": "Python 3",
   "language": "python",
   "name": "python3"
  },
  "language_info": {
   "name": "python",
   "version": "3.11.9"
  }
 },
 "nbformat": 4,
 "nbformat_minor": 5
}

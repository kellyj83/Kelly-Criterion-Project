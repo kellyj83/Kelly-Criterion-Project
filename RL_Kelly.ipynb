{
 "cells": [
  {
   "cell_type": "code",
   "execution_count": 43,
   "id": "e63aaf7d",
   "metadata": {},
   "outputs": [],
   "source": [
    "import numpy as np \n"
   ]
  },
  {
   "cell_type": "code",
   "execution_count": 44,
   "id": "44df014f",
   "metadata": {},
   "outputs": [],
   "source": [
    "\n",
    "# Value Function\n",
    "def V_derivative(alpha_1, alpha_2, t_i, x_i, t_i_next, x_i_next):\n",
    "    \n",
    "    return ((1+exploration_rate*(T - t_i_next))*np.log(x_i_next) - (1+exploration_rate*(T - t_i))*np.log(x_i))/(delta_t) - ((1+exploration_rate*(T - t_i_next))*np.log(1+exploration_rate*(T - t_i_next)) - (1+exploration_rate*(T - t_i))*np.log(1+exploration_rate*(T - t_i)))/(2*delta_t) + (alpha_1*(t_i_next ** 2 - t_i ** 2) + alpha_2*delta_t)/(delta_t)\n",
    "\n",
    "\n",
    "def C_derivative(alpha_1, alpha_2, beta_1, beta_2, sample_set):\n",
    "        \n",
    "    dC_dalpha_1 = 0\n",
    "    dC_dalpha_2 = 0\n",
    "    dC_dbeta_2 = 0\n",
    "    \n",
    "    for i in range(len(sample_set)-1):\n",
    "\n",
    "        dC_dalpha_1 += 1/2*((V_derivative(alpha_1, alpha_2, sample_set[i][0], sample_set[i][1], sample_set[i+1][0], sample_set[i+1][1]) + exploration_rate*np.log(sample_set[i][1]) - exploration_rate/2 * np.log(1+exploration_rate*(T - sample_set[i][0])) - exploration_rate*beta_2)*(sample_set[i+1][0] ** 2 - sample_set[i][0] ** 2))\n",
    "        dC_dalpha_2 += 1/2*((V_derivative(alpha_1, alpha_2, sample_set[i][0], sample_set[i][1], sample_set[i+1][0], sample_set[i+1][1]) + exploration_rate*np.log(sample_set[i][1]) - exploration_rate/2 * np.log(1+exploration_rate*(T - sample_set[i][0])) - exploration_rate*beta_2)*(delta_t))\n",
    "        dC_dbeta_2 += 1/2*((V_derivative(alpha_1, alpha_2, sample_set[i][0], sample_set[i][1], sample_set[i+1][0], sample_set[i+1][1]) + exploration_rate*np.log(sample_set[i][1]) - exploration_rate/2 * np.log(1+exploration_rate*(T - sample_set[i][0])) - exploration_rate*beta_2)*(-exploration_rate*delta_t) )\n",
    "        \n",
    "    return dC_dalpha_1, dC_dalpha_2, dC_dbeta_2"
   ]
  },
  {
   "cell_type": "code",
   "execution_count": null,
   "id": "f976803e",
   "metadata": {},
   "outputs": [
    {
     "name": "stdout",
     "output_type": "stream",
     "text": [
      "Initial mean:  500.0\n",
      "Initial variance:  3589.879883641439\n",
      "0\n",
      "0\n",
      "0\n",
      "[-3.778828]\n",
      "[-1.25960933]\n",
      "[0.62980467]\n",
      "[nan]\n",
      "[nan]\n",
      "[nan]\n",
      "[nan]\n",
      "[nan]\n",
      "[nan]\n",
      "[nan]\n",
      "[nan]\n",
      "[nan]\n",
      "[nan]\n",
      "[nan]\n",
      "[nan]\n",
      "[nan]\n",
      "[nan]\n",
      "[nan]\n",
      "[nan]\n",
      "[nan]\n",
      "[nan]\n",
      "[nan]\n",
      "[nan]\n",
      "[nan]\n",
      "[nan]\n",
      "[nan]\n",
      "[nan]\n",
      "[nan]\n",
      "[nan]\n"
     ]
    },
    {
     "name": "stderr",
     "output_type": "stream",
     "text": [
      "C:\\Users\\Jonathan\\AppData\\Local\\Temp\\ipykernel_16628\\2811760597.py:4: RuntimeWarning: invalid value encountered in log\n",
      "  return ((1+exploration_rate*(T - t_i_next))*np.log(x_i_next) - (1+exploration_rate*(T - t_i))*np.log(x_i))/(delta_t) - ((1+exploration_rate*(T - t_i_next))*np.log(1+exploration_rate*(T - t_i_next)) - (1+exploration_rate*(T - t_i))*np.log(1+exploration_rate*(T - t_i)))/(2*delta_t) + (alpha_1*(t_i_next ** 2 - t_i ** 2) + alpha_2*delta_t)/(delta_t)\n",
      "C:\\Users\\Jonathan\\AppData\\Local\\Temp\\ipykernel_16628\\2811760597.py:15: RuntimeWarning: invalid value encountered in log\n",
      "  dC_dalpha_1 += 1/2*((V_derivative(alpha_1, alpha_2, sample_set[i][0], sample_set[i][1], sample_set[i+1][0], sample_set[i+1][1]) + exploration_rate*np.log(sample_set[i][1]) - exploration_rate/2 * np.log(1+exploration_rate*(T - sample_set[i][0])) - exploration_rate*beta_2)*(sample_set[i+1][0] ** 2 - sample_set[i][0] ** 2))\n",
      "C:\\Users\\Jonathan\\AppData\\Local\\Temp\\ipykernel_16628\\2811760597.py:16: RuntimeWarning: invalid value encountered in log\n",
      "  dC_dalpha_2 += 1/2*((V_derivative(alpha_1, alpha_2, sample_set[i][0], sample_set[i][1], sample_set[i+1][0], sample_set[i+1][1]) + exploration_rate*np.log(sample_set[i][1]) - exploration_rate/2 * np.log(1+exploration_rate*(T - sample_set[i][0])) - exploration_rate*beta_2)*(delta_t))\n",
      "C:\\Users\\Jonathan\\AppData\\Local\\Temp\\ipykernel_16628\\2811760597.py:17: RuntimeWarning: invalid value encountered in log\n",
      "  dC_dbeta_2 += 1/2*((V_derivative(alpha_1, alpha_2, sample_set[i][0], sample_set[i][1], sample_set[i+1][0], sample_set[i+1][1]) + exploration_rate*np.log(sample_set[i][1]) - exploration_rate/2 * np.log(1+exploration_rate*(T - sample_set[i][0])) - exploration_rate*beta_2)*(-exploration_rate*delta_t) )\n"
     ]
    }
   ],
   "source": [
    "x0 = 1000\n",
    "delta_t = 1\n",
    "exploration_rate = 0.5\n",
    "T = 10\n",
    "\n",
    "beta_1 = 0.5\n",
    "beta_2 = 0.5\n",
    "alpha_1 = 0.5\n",
    "alpha_2 = 0.5\n",
    "theta_alpha = 0.0005\n",
    "theta_beta = 0.0005\n",
    "\n",
    "\n",
    "mean = beta_1*x0\n",
    "u = mean\n",
    "variance = (np.exp(-2*beta_2-1)*x0**2)/(2*np.pi*(1+exploration_rate*(T))) \n",
    "print(\"Initial mean: \", mean)\n",
    "print(\"Initial variance: \", variance)\n",
    "\n",
    "\n",
    "i = 1\n",
    "sample_set = []\n",
    "while i <= T/delta_t:\n",
    "    t_i = i*delta_t\n",
    "    t_i_next = (i+1)*delta_t\n",
    "    x_i = np.random.normal(mean, variance, 1)\n",
    "    \n",
    "    sample_set.append([t_i, x_i])\n",
    "    dC_dalpha_1, dC_dalpha_2, dC_dbeta_2 = C_derivative(alpha_1, alpha_2, beta_1, beta_2, sample_set)\n",
    "    \n",
    "    print(dC_dalpha_1)\n",
    "    print(dC_dalpha_2) \n",
    "    print(dC_dbeta_2)\n",
    "    \n",
    "    alpha_1 -= theta_alpha * dC_dalpha_1\n",
    "    alpha_2 -= theta_alpha * dC_dalpha_2\n",
    "    beta_2 -= theta_beta * dC_dbeta_2\n",
    "    beta_1 = (alpha_1*np.exp(-2*beta_1-1))/(np.pi*exploration_rate**2*beta_1) + beta_1/2\n",
    "    mean  = beta_1*x0\n",
    "    variance = (np.exp(-2*beta_2-1)*x0**2)/(2*np.pi*(1+exploration_rate*(T - t_i)))\n",
    "    \n",
    "    i += 1\n",
    "    \n",
    "print(mean)\n",
    "print(variance)\n",
    "\n",
    "# The derivative of the C function is not working; after a number of iterations, the values of alpha_1, alpha_2, beta_1, and beta_2 are returning as nan\n"
   ]
  }
 ],
 "metadata": {
  "kernelspec": {
   "display_name": "Python 3",
   "language": "python",
   "name": "python3"
  },
  "language_info": {
   "codemirror_mode": {
    "name": "ipython",
    "version": 3
   },
   "file_extension": ".py",
   "mimetype": "text/x-python",
   "name": "python",
   "nbconvert_exporter": "python",
   "pygments_lexer": "ipython3",
   "version": "3.11.9"
  }
 },
 "nbformat": 4,
 "nbformat_minor": 5
}
